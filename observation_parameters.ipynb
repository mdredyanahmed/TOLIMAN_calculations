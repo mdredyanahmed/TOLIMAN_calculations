{
 "cells": [
  {
   "cell_type": "code",
   "execution_count": 5,
   "metadata": {},
   "outputs": [
    {
     "name": "stdout",
     "output_type": "stream",
     "text": [
      "The change in position of Alpha Centauri AB system in 2026 is approximately 7.400000 arcseconds.\n"
     ]
    }
   ],
   "source": [
    "import numpy as np\n",
    "\n",
    "# Constants\n",
    "current_year = 2024\n",
    "target_year = 2026\n",
    "distance_ly = 4.37  # Distance to Alpha Centauri system in light-years\n",
    "\n",
    "# Proper motion of the whole Alpha Centauri AB system in arcseconds per year\n",
    "proper_motion_system_arcsec_per_year = 3.7  \n",
    "\n",
    "# Calculate the time difference\n",
    "time_difference_years = target_year - current_year\n",
    "\n",
    "# Calculate the change in position due to proper motion in arcseconds\n",
    "system_separation_arcsec = proper_motion_system_arcsec_per_year * time_difference_years\n",
    "\n",
    "# Convert arcseconds to radians\n",
    "system_separation_radians = np.deg2rad(system_separation_arcsec / 3600)\n",
    "\n",
    "# Calculate the change in separation in light-years\n",
    "separation_ly = distance_ly * system_separation_radians\n",
    "\n",
    "print(f\"The change in position of Alpha Centauri AB system in {target_year} is approximately {system_separation_arcsec:.6f} arcseconds.\")\n",
    "\n"
   ]
  },
  {
   "cell_type": "markdown",
   "metadata": {
    "vscode": {
     "languageId": "latex"
    }
   },
   "source": [
    "1. Distance between Alpha Centauri  and earth in light years is 4.37 ly. https://web.archive.org/web/20220223194607id_/http://www.intellectualarchive.com/Journal_Files/IAJ_2018_07_17.pdf\n",
    "\n",
    "2. Proper motion of Alpha Centauri in arcseconds per year is 3.7 (https://www.aanda.org/articles/aa/full_html/2016/10/aa29201-16/aa29201-16.html)\n",
    "\n",
    "The above code is solved based on  small-angle approximation where, s≈d×((μ*Δt*π​)/3600*180)"
   ]
  },
  {
   "cell_type": "code",
   "execution_count": 13,
   "metadata": {},
   "outputs": [
    {
     "name": "stdout",
     "output_type": "stream",
     "text": [
      "  MAIN_ID         RA           DEC      ... RV_VALUE_4 SCRIPT_NUMBER_ID\n",
      "               \"h:m:s\"       \"d:m:s\"    ...   km / s                   \n",
      "----------- ------------- ------------- ... ---------- ----------------\n",
      "* alf Cen A 14 39 36.4940 -60 50 02.373 ...    -15.252                1\n",
      "Alpha Cen A: V Magnitude: 0.009999999776482582\n",
      "Alpha Cen A: Spectral Type: G2V\n",
      "Alpha Cen A: Metallicity [Fe/H]: Not Available\n",
      "Alpha Cen A Radial Velocity: -15.252 km/s\n"
     ]
    }
   ],
   "source": [
    "from astroquery.simbad import Simbad\n",
    "\n",
    "\n",
    "Simbad.add_votable_fields('flux(V)', 'fe_h', 'sp', 'rv_value')\n",
    "\n",
    "# Query for Alpha Centauri A\n",
    "result_A = Simbad.query_object(\"Alpha Cen A\")\n",
    "print(result_A)\n",
    "\n",
    "# Extracting values if needed\n",
    "V_mag = result_A['FLUX_V'][0]\n",
    "print(f\"Alpha Cen A: V Magnitude: {V_mag}\")\n",
    "\n",
    "# Spectral Type\n",
    "spectral_type = result_A['SP_TYPE'][0]\n",
    "print(f\"Alpha Cen A: Spectral Type: {spectral_type}\")\n",
    "\n",
    "# Metallicity\n",
    "metallicity = result_A['FE_H'][0] if 'FE_H' in result_A.colnames else \"Not Available\"\n",
    "print(f\"Alpha Cen A: Metallicity [Fe/H]: {metallicity}\")\n",
    "\n",
    "# Radial Velocity\n",
    "radial_velocity = result_A['RV_VALUE'][0]\n",
    "print(f\"Alpha Cen A Radial Velocity: {radial_velocity} km/s\")\n",
    "\n",
    "\n",
    "\n"
   ]
  },
  {
   "cell_type": "markdown",
   "metadata": {},
   "source": [
    "In above code, V magnitude and Effective temperature of Alpha Centauri A and B has been taken from https://adsabs.harvard.edu/full/1986A%26A...158..273S .TOLIMAN bandpass 530-640 nm has been taken from https://doi.org/10.1117/12.3019202\n",
    "\n",
    "Here, I take Primary mirror diameter (13 cm) and secondary mirror diamater (1.90 cm) and spider_fraction = 0.0214 \n",
    "\n",
    "Here, I start by modeling Alpha Centauri A's spectral flux density as a blackbody with a temperature of 5781 K and integrating it over the TOLIMAN bandpass (530-640 nm) to determine the total emitted flux. This flux is then normalized using the V-band magnitude (-0.1) and the Vega system zero-point flux to match observed brightness. Next, the effective collecting area of a TOLIMAN telescope is calculated, accounting for losses due to the secondary mirror and spider arm obstructions. The integrated flux is scaled by this effective area, providing an estimate of the light actually collected by the telescope. I also divide the collected flux (in erg/s) by the energy of a single photon (in erg) is the correct approach to convert it into photons per second. "
   ]
  },
  {
   "cell_type": "code",
   "execution_count": null,
   "metadata": {},
   "outputs": [
    {
     "name": "stdout",
     "output_type": "stream",
     "text": [
      "  MAIN_ID         RA           DEC      ... RV_VALUE_2 SCRIPT_NUMBER_ID\n",
      "               \"h:m:s\"       \"d:m:s\"    ...   km / s                   \n",
      "----------- ------------- ------------- ... ---------- ----------------\n",
      "* alf Cen B 14 39 35.0631 -60 50 15.099 ...    -22.586                1\n",
      "Alpha Cen B: V Magnitude: 1.3300000429153442\n",
      "Alpha Cen B: Spectral Type: K1V\n",
      "Metallicity [Fe/H]: Not Available\n",
      "Alpha Cen B:Radial Velocity: -22.586 km/s\n"
     ]
    }
   ],
   "source": [
    "from astroquery.simbad import Simbad\n",
    "\n",
    "\n",
    "Simbad.add_votable_fields('flux(V)', 'fe_h', 'sp', 'rv_value')\n",
    "\n",
    "# Query for Alpha Centauri B\n",
    "result_A = Simbad.query_object(\"Alpha Cen B\")\n",
    "print(result_A)\n",
    "\n",
    "\n",
    "V_mag = result_A['FLUX_V'][0]\n",
    "print(f\"Alpha Cen B: V Magnitude: {V_mag}\")\n",
    "\n",
    "# Spectral Type\n",
    "spectral_type = result_A['SP_TYPE'][0]\n",
    "print(f\"Alpha Cen B: Spectral Type: {spectral_type}\")\n",
    "\n",
    "# Metallicity\n",
    "metallicity = result_A['FE_H'][0] if 'FE_H' in result_A.colnames else \"Not Available\"\n",
    "print(f\"Metallicity [Fe/H]: {metallicity}\")\n",
    "\n",
    "# Radial Velocity\n",
    "radial_velocity = result_A['RV_VALUE'][0]\n",
    "print(f\"Alpha Cen B:Radial Velocity: {radial_velocity} km/s\")\n"
   ]
  },
  {
   "cell_type": "code",
   "execution_count": null,
   "metadata": {
    "notebookRunGroups": {
     "groupValue": "1"
    }
   },
   "outputs": [],
   "source": []
  },
  {
   "cell_type": "markdown",
   "metadata": {},
   "source": [
    "Metallicity   [Fe/H] of alpha centurai  ~ +0.23 dex \n",
    "Ref: https://www.aanda.org/articles/aa/full_html/2018/07/aa33125-18/aa33125-18.html#F2"
   ]
  },
  {
   "cell_type": "markdown",
   "metadata": {},
   "source": [
    "Key points:\n",
    "*** The change in position of Alpha Centauri AB system in 2026 is approximately 7.400000 arcseconds.\n",
    "Converted to light-years, this change in separation is approximately 0.000157 light-years.\n",
    "\n",
    "\n",
    "\n",
    "\n",
    "\n",
    "\n",
    "***alf Cen A sky position: 14 39 36.4940 -60 50 02.373             1\n",
    "Alpha Cen A: V Magnitude: 0.009999999776482582\n",
    "Alpha Cen A: Spectral Type: G2V\n",
    "Alpha Cen A Radial Velocity: -15.252 km/s\n",
    "\n",
    "***alf Cen B sky position:14 39 35.0631 -60 50 15.099       1\n",
    "Alpha Cen B: V Magnitude: 1.3300000429153442\n",
    "Alpha Cen B: Spectral Type: K1V\n",
    "Alpha Cen B:Radial Velocity: -22.586 km/s\n",
    "\n"
   ]
  },
  {
   "cell_type": "markdown",
   "metadata": {},
   "source": []
  }
 ],
 "metadata": {
  "kernelspec": {
   "display_name": "base",
   "language": "python",
   "name": "python3"
  },
  "language_info": {
   "codemirror_mode": {
    "name": "ipython",
    "version": 3
   },
   "file_extension": ".py",
   "mimetype": "text/x-python",
   "name": "python",
   "nbconvert_exporter": "python",
   "pygments_lexer": "ipython3",
   "version": "3.12.7"
  }
 },
 "nbformat": 4,
 "nbformat_minor": 2
}
