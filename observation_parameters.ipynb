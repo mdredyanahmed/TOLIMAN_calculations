{
 "cells": [
  {
   "cell_type": "code",
   "execution_count": 10,
   "metadata": {},
   "outputs": [
    {
     "name": "stdout",
     "output_type": "stream",
     "text": [
      "Binary separation between Alpha Cen in 2026 (in arcseconds): 8.77477687328834\n"
     ]
    }
   ],
   "source": [
    "\n",
    "import numpy as np\n",
    "\n",
    "# Orbital parameters (from literature for Alpha Centauri AB)\n",
    "semi_major_axis_arcsec = 17.493  # Semi-major axis in arcseconds\n",
    "eccentricity = 0.52  # Orbital eccentricity\n",
    "inclination_deg = 79.2  # Inclination in degrees\n",
    "omega_deg = 231.65  # Longitude of periastron in degrees\n",
    "epoch_periastron = 1875.66  # Epoch of periastron in Julian years\n",
    "orbital_period_years = 79 # Orbital period in years\n",
    "\n",
    "\n",
    "target_year = 2026\n",
    "\n",
    "# Convert degrees to radians for inclination and omega\n",
    "inclination_rad = np.deg2rad(inclination_deg)\n",
    "omega_rad = np.deg2rad(omega_deg)\n",
    "\n",
    "# Time difference from periastron to target year\n",
    "time_since_periastron_years = target_year - epoch_periastron\n",
    "\n",
    "# Mean anomaly (M) in radians\n",
    "mean_anomaly_rad = 2 * np.pi * (time_since_periastron_years % orbital_period_years) / orbital_period_years\n",
    "\n",
    "# Solve Kepler's equation: M = E - e * sin(E) for E (Eccentric Anomaly)\n",
    "def solve_keplers_equation(M, e, tol=1e-6):\n",
    "    E = M  # Initial guess\n",
    "    while True:\n",
    "        delta_E = (M - (E - e * np.sin(E))) / (1 - e * np.cos(E))\n",
    "        E += delta_E\n",
    "        if abs(delta_E) < tol:\n",
    "            break\n",
    "    return E\n",
    "\n",
    "eccentric_anomaly_rad = solve_keplers_equation(mean_anomaly_rad, eccentricity)\n",
    "\n",
    "# True anomaly (ν) in radians\n",
    "true_anomaly_rad = 2 * np.arctan2(\n",
    "    np.sqrt(1 + eccentricity) * np.sin(eccentric_anomaly_rad / 2),\n",
    "    np.sqrt(1 - eccentricity) * np.cos(eccentric_anomaly_rad / 2)\n",
    ")\n",
    "\n",
    "# Distance from the center of mass (r) in arcseconds\n",
    "r_arcsec = semi_major_axis_arcsec * (1 - eccentricity**2) / (1 + eccentricity * np.cos(true_anomaly_rad))\n",
    "\n",
    "# Projected separation in arcseconds (accounting for inclination and ω)\n",
    "projected_separation_arcsec = r_arcsec * np.sqrt(\n",
    "    (np.sin(true_anomaly_rad + omega_rad))**2 +\n",
    "    (np.cos(true_anomaly_rad + omega_rad) * np.cos(inclination_rad))**2\n",
    ")\n",
    "\n",
    "print(\"Binary separation between Alpha Cen in 2026 (in arcseconds):\",projected_separation_arcsec)\n"
   ]
  },
  {
   "cell_type": "markdown",
   "metadata": {},
   "source": [
    "Explanation:\n",
    "This code calculates the projected separation in arcseconds of Alpha Centauri AB for a given target year (2026) based on its orbital parameters. It first computes the mean anomaly, which represents the fraction of the orbital period elapsed since the last periastron, assuming uniform circular motion. Using Kepler's equation, it then solves for the eccentric anomaly, which accounts for the elliptical nature of the orbit and maps the body's position onto a reference circle. From this, the true anomaly is determined, representing the actual angular position of the body along its elliptical orbit. These anomalies describe the body's orbital dynamics at different levels of precision. The orbital radius at this point is calculated, and the projected separation is derived by accounting for the inclination and orientation of the orbit. Key calculations involve trigonometric transformations and Keplerian orbital mechanics. The final output is the apparent distance between the stars as seen from Earth."
   ]
  },
  {
   "cell_type": "markdown",
   "metadata": {},
   "source": [
    "References:\n",
    "Eccentricity (e = 0.52):https://www.aanda.org/articles/aa/full_html/2016/10/aa29201-16/aa29201-16.html\n",
    "inclination 79.2: https://www.aanda.org/articles/aa/pdf/2016/10/aa29201-16.pdf\n",
    "omega_deg = 231.65 :https://www.mdpi.com/2218-1997/10/2/64\n",
    "epoch_periastron = 1875.66:https://en.wikipedia.org/wiki/Alpha_Centauri\n",
    "semi major axis=17.393arcseconds and orbital period=79 years: https://en.wikipedia.org/wiki/Alpha_Centauri"
   ]
  },
  {
   "cell_type": "code",
   "execution_count": 13,
   "metadata": {},
   "outputs": [
    {
     "name": "stdout",
     "output_type": "stream",
     "text": [
      "  MAIN_ID         RA           DEC      ... RV_VALUE_4 SCRIPT_NUMBER_ID\n",
      "               \"h:m:s\"       \"d:m:s\"    ...   km / s                   \n",
      "----------- ------------- ------------- ... ---------- ----------------\n",
      "* alf Cen A 14 39 36.4940 -60 50 02.373 ...    -15.252                1\n",
      "Alpha Cen A: V Magnitude: 0.009999999776482582\n",
      "Alpha Cen A: Spectral Type: G2V\n",
      "Alpha Cen A: Metallicity [Fe/H]: Not Available\n",
      "Alpha Cen A Radial Velocity: -15.252 km/s\n"
     ]
    }
   ],
   "source": [
    "from astroquery.simbad import Simbad\n",
    "\n",
    "\n",
    "Simbad.add_votable_fields('flux(V)', 'fe_h', 'sp', 'rv_value')\n",
    "\n",
    "# Query for Alpha Centauri A\n",
    "result_A = Simbad.query_object(\"Alpha Cen A\")\n",
    "print(result_A)\n",
    "\n",
    "# Extracting values if needed\n",
    "V_mag = result_A['FLUX_V'][0]\n",
    "print(f\"Alpha Cen A: V Magnitude: {V_mag}\")\n",
    "\n",
    "# Spectral Type\n",
    "spectral_type = result_A['SP_TYPE'][0]\n",
    "print(f\"Alpha Cen A: Spectral Type: {spectral_type}\")\n",
    "\n",
    "# Metallicity\n",
    "metallicity = result_A['FE_H'][0] if 'FE_H' in result_A.colnames else \"Not Available\"\n",
    "print(f\"Alpha Cen A: Metallicity [Fe/H]: {metallicity}\")\n",
    "\n",
    "# Radial Velocity\n",
    "radial_velocity = result_A['RV_VALUE'][0]\n",
    "print(f\"Alpha Cen A Radial Velocity: {radial_velocity} km/s\")\n",
    "\n",
    "\n",
    "\n"
   ]
  },
  {
   "cell_type": "markdown",
   "metadata": {},
   "source": [
    "In above code, V magnitude and Effective temperature of Alpha Centauri A and B has been taken from https://adsabs.harvard.edu/full/1986A%26A...158..273S .TOLIMAN bandpass 530-640 nm has been taken from https://doi.org/10.1117/12.3019202\n",
    "\n",
    "Here, I take Primary mirror diameter (13 cm) and secondary mirror diamater (1.90 cm) and spider_fraction = 0.0214 \n",
    "\n",
    "Here, I start by modeling Alpha Centauri A's spectral flux density as a blackbody with a temperature of 5781 K and integrating it over the TOLIMAN bandpass (530-640 nm) to determine the total emitted flux. This flux is then normalized using the V-band magnitude (-0.1) and the Vega system zero-point flux to match observed brightness. Next, the effective collecting area of a TOLIMAN telescope is calculated, accounting for losses due to the secondary mirror and spider arm obstructions. The integrated flux is scaled by this effective area, providing an estimate of the light actually collected by the telescope. I also divide the collected flux (in erg/s) by the energy of a single photon (in erg) is the correct approach to convert it into photons per second. "
   ]
  },
  {
   "cell_type": "code",
   "execution_count": null,
   "metadata": {},
   "outputs": [
    {
     "name": "stdout",
     "output_type": "stream",
     "text": [
      "  MAIN_ID         RA           DEC      ... RV_VALUE_2 SCRIPT_NUMBER_ID\n",
      "               \"h:m:s\"       \"d:m:s\"    ...   km / s                   \n",
      "----------- ------------- ------------- ... ---------- ----------------\n",
      "* alf Cen B 14 39 35.0631 -60 50 15.099 ...    -22.586                1\n",
      "Alpha Cen B: V Magnitude: 1.3300000429153442\n",
      "Alpha Cen B: Spectral Type: K1V\n",
      "Metallicity [Fe/H]: Not Available\n",
      "Alpha Cen B:Radial Velocity: -22.586 km/s\n"
     ]
    }
   ],
   "source": [
    "from astroquery.simbad import Simbad\n",
    "\n",
    "\n",
    "Simbad.add_votable_fields('flux(V)', 'fe_h', 'sp', 'rv_value')\n",
    "\n",
    "# Query for Alpha Centauri B\n",
    "result_A = Simbad.query_object(\"Alpha Cen B\")\n",
    "print(result_A)\n",
    "\n",
    "\n",
    "V_mag = result_A['FLUX_V'][0]\n",
    "print(f\"Alpha Cen B: V Magnitude: {V_mag}\")\n",
    "\n",
    "# Spectral Type\n",
    "spectral_type = result_A['SP_TYPE'][0]\n",
    "print(f\"Alpha Cen B: Spectral Type: {spectral_type}\")\n",
    "\n",
    "# Metallicity\n",
    "metallicity = result_A['FE_H'][0] if 'FE_H' in result_A.colnames else \"Not Available\"\n",
    "print(f\"Metallicity [Fe/H]: {metallicity}\")\n",
    "\n",
    "# Radial Velocity\n",
    "radial_velocity = result_A['RV_VALUE'][0]\n",
    "print(f\"Alpha Cen B:Radial Velocity: {radial_velocity} km/s\")\n"
   ]
  },
  {
   "cell_type": "markdown",
   "metadata": {},
   "source": [
    "Metallicity   [Fe/H] of alpha centurai  ~ +0.23 dex \n",
    "Ref: https://www.aanda.org/articles/aa/full_html/2018/07/aa33125-18/aa33125-18.html#F2"
   ]
  },
  {
   "cell_type": "markdown",
   "metadata": {},
   "source": [
    "Key points:\n",
    "*** The change in position of Alpha Centauri AB system in 2026 is approximately 7.400000 arcseconds.\n",
    "Converted to light-years, this change in separation is approximately 0.000157 light-years.\n",
    "\n",
    "\n",
    "\n",
    "\n",
    "\n",
    "\n",
    "***alf Cen A sky position: 14 39 36.4940 -60 50 02.373             1\n",
    "Alpha Cen A: V Magnitude: 0.009999999776482582\n",
    "Alpha Cen A: Spectral Type: G2V\n",
    "Alpha Cen A Radial Velocity: -15.252 km/s\n",
    "\n",
    "***alf Cen B sky position:14 39 35.0631 -60 50 15.099       1\n",
    "Alpha Cen B: V Magnitude: 1.3300000429153442\n",
    "Alpha Cen B: Spectral Type: K1V\n",
    "Alpha Cen B:Radial Velocity: -22.586 km/s\n",
    "\n"
   ]
  }
 ],
 "metadata": {
  "kernelspec": {
   "display_name": "base",
   "language": "python",
   "name": "python3"
  },
  "language_info": {
   "codemirror_mode": {
    "name": "ipython",
    "version": 3
   },
   "file_extension": ".py",
   "mimetype": "text/x-python",
   "name": "python",
   "nbconvert_exporter": "python",
   "pygments_lexer": "ipython3",
   "version": "3.12.7"
  }
 },
 "nbformat": 4,
 "nbformat_minor": 2
}
